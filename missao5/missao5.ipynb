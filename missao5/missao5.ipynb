{
 "cells": [
  {
   "cell_type": "code",
   "execution_count": null,
   "metadata": {},
   "outputs": [],
   "source": [
    "\"\"\"\n",
    "Alguns dados do arquivo \"dados_compras.json\" foram alterados.\n",
    "\"\"\"\n",
    "\n",
    "from IPython.core.display import display, HTML\n",
    "import pandas as pd\n",
    "\n",
    "df = pd.read_json('dados_compras.json')"
   ]
  },
  {
   "cell_type": "code",
   "execution_count": null,
   "metadata": {},
   "outputs": [],
   "source": [
    "total = df['Login'].nunique()\n",
    "\n",
    "HTML('<h2>Contagem de Consumidores</h2><h4>Número total de consumidores: %d</h4>' % total)"
   ]
  },
  {
   "cell_type": "code",
   "execution_count": null,
   "metadata": {},
   "outputs": [],
   "source": [
    "data = {\n",
    "    'Número': {\n",
    "        'Número de Itens exclusivos': df['Item'].nunique(),\n",
    "        'Número total de compras': df['Login'].count(),\n",
    "        'Preço médio de compra': df['Valor'].mean(),\n",
    "        'Rendimento total': df['Valor'].sum()\n",
    "    }\n",
    "}\n",
    "\n",
    "display(HTML('<h2>Análise Geral de Compras</h2>'))\n",
    "pd.DataFrame(data).round(2)"
   ]
  },
  {
   "cell_type": "code",
   "execution_count": null,
   "metadata": {},
   "outputs": [],
   "source": [
    "data = df.drop_duplicates('Login').groupby('Sexo').size().rename('')\n",
    "\n",
    "display(HTML('<h2>Informações Demográficas Por Gênero</h2>'))\n",
    "data.plot.pie(legend=False, title='Percentual')"
   ]
  },
  {
   "cell_type": "code",
   "execution_count": null,
   "metadata": {},
   "outputs": [],
   "source": [
    "table = df.groupby('Sexo').agg({'Valor': ['count', 'mean', 'sum']}).round(2)\n",
    "table.columns = ['Número de compras', 'Preço médio de compra', 'Valor Total de Compra'] \n",
    "\n",
    "display(HTML('<h2>Análise de Compras Por Gênero</h2>'))\n",
    "display(table)\n",
    "\n",
    "#-------------------------------\n",
    "\n",
    "faixa = df.groupby(['Sexo', 'Idade']).agg({'Item': 'count'}).unstack(level=0).fillna(0)\n",
    "faixa.columns = ['Feminino', 'Masculino', 'Outro']\n",
    "\n",
    "display(HTML('<h2>Compras for faixa etária</h2>'))\n",
    "display(faixa.plot())"
   ]
  },
  {
   "cell_type": "code",
   "execution_count": null,
   "metadata": {},
   "outputs": [],
   "source": [
    "principal = df.groupby('Login').agg({'Valor': ['count', 'mean', 'sum']}).round(2)\n",
    "principal.columns = ['Número de compras', 'Preço médio de compra', 'Valor Total de Compra']\n",
    "\n",
    "display(HTML('<h2>Os 5 principais compradores pelo valor total de compra</h2>'))\n",
    "display(principal.sort_values('Valor Total de Compra', ascending=False).head(5))"
   ]
  },
  {
   "cell_type": "code",
   "execution_count": null,
   "metadata": {},
   "outputs": [],
   "source": [
    "popular = df.groupby('Item').agg({'Valor': ['count', 'quantile', 'sum']}).round(2)\n",
    "popular.columns = ['Número de compras', 'Preço do item', 'Valor Total de Compra']\n",
    "\n",
    "#-------------------------------\n",
    "\n",
    "display(HTML('<h2>Os 5 itens mais populares por contagem de compras</h2>'))\n",
    "display(popular.sort_values('Número de compras', ascending=False).head(5))\n",
    "\n",
    "#-------------------------------\n",
    "\n",
    "display(HTML('<h2>Os 5 itens mais lucrativos pelo valor total de compra</h2>'))\n",
    "display(popular.sort_values('Valor Total de Compra', ascending=False).head(5))"
   ]
  }
 ],
 "metadata": {
  "kernelspec": {
   "display_name": "Python 3",
   "language": "python",
   "name": "python3"
  },
  "language_info": {
   "codemirror_mode": {
    "name": "ipython",
    "version": 3
   },
   "file_extension": ".py",
   "mimetype": "text/x-python",
   "name": "python",
   "nbconvert_exporter": "python",
   "pygments_lexer": "ipython3",
   "version": "3.6.8"
  }
 },
 "nbformat": 4,
 "nbformat_minor": 2
}
